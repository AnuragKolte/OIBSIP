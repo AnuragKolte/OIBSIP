{
 "cells": [
  {
   "cell_type": "markdown",
   "id": "d8746304",
   "metadata": {},
   "source": [
    "# Task 1 : Customer Segmentation Analysis"
   ]
  },
  {
   "cell_type": "code",
   "execution_count": 2,
   "id": "51342413",
   "metadata": {},
   "outputs": [],
   "source": [
    "import numpy as np\n",
    "import pandas as pd \n",
    "import warnings\n",
    "warnings.filterwarnings(\"ignore\")\n",
    "import seaborn as sns\n",
    "import matplotlib.pyplot as plt\n",
    "from scipy.stats import pointbiserialr"
   ]
  },
  {
   "cell_type": "code",
   "execution_count": 6,
   "id": "a369c17e",
   "metadata": {
    "scrolled": true
   },
   "outputs": [
    {
     "data": {
      "text/html": [
       "<div>\n",
       "<style scoped>\n",
       "    .dataframe tbody tr th:only-of-type {\n",
       "        vertical-align: middle;\n",
       "    }\n",
       "\n",
       "    .dataframe tbody tr th {\n",
       "        vertical-align: top;\n",
       "    }\n",
       "\n",
       "    .dataframe thead th {\n",
       "        text-align: right;\n",
       "    }\n",
       "</style>\n",
       "<table border=\"1\" class=\"dataframe\">\n",
       "  <thead>\n",
       "    <tr style=\"text-align: right;\">\n",
       "      <th></th>\n",
       "      <th>Income</th>\n",
       "      <th>Kidhome</th>\n",
       "      <th>Teenhome</th>\n",
       "      <th>Recency</th>\n",
       "      <th>MntWines</th>\n",
       "      <th>MntFruits</th>\n",
       "      <th>MntMeatProducts</th>\n",
       "      <th>MntFishProducts</th>\n",
       "      <th>MntSweetProducts</th>\n",
       "      <th>MntGoldProds</th>\n",
       "      <th>...</th>\n",
       "      <th>marital_Together</th>\n",
       "      <th>marital_Widow</th>\n",
       "      <th>education_2n Cycle</th>\n",
       "      <th>education_Basic</th>\n",
       "      <th>education_Graduation</th>\n",
       "      <th>education_Master</th>\n",
       "      <th>education_PhD</th>\n",
       "      <th>MntTotal</th>\n",
       "      <th>MntRegularProds</th>\n",
       "      <th>AcceptedCmpOverall</th>\n",
       "    </tr>\n",
       "  </thead>\n",
       "  <tbody>\n",
       "    <tr>\n",
       "      <th>0</th>\n",
       "      <td>58138.0</td>\n",
       "      <td>0</td>\n",
       "      <td>0</td>\n",
       "      <td>58</td>\n",
       "      <td>635</td>\n",
       "      <td>88</td>\n",
       "      <td>546</td>\n",
       "      <td>172</td>\n",
       "      <td>88</td>\n",
       "      <td>88</td>\n",
       "      <td>...</td>\n",
       "      <td>0</td>\n",
       "      <td>0</td>\n",
       "      <td>0</td>\n",
       "      <td>0</td>\n",
       "      <td>1</td>\n",
       "      <td>0</td>\n",
       "      <td>0</td>\n",
       "      <td>1529</td>\n",
       "      <td>1441</td>\n",
       "      <td>0</td>\n",
       "    </tr>\n",
       "    <tr>\n",
       "      <th>1</th>\n",
       "      <td>46344.0</td>\n",
       "      <td>1</td>\n",
       "      <td>1</td>\n",
       "      <td>38</td>\n",
       "      <td>11</td>\n",
       "      <td>1</td>\n",
       "      <td>6</td>\n",
       "      <td>2</td>\n",
       "      <td>1</td>\n",
       "      <td>6</td>\n",
       "      <td>...</td>\n",
       "      <td>0</td>\n",
       "      <td>0</td>\n",
       "      <td>0</td>\n",
       "      <td>0</td>\n",
       "      <td>1</td>\n",
       "      <td>0</td>\n",
       "      <td>0</td>\n",
       "      <td>21</td>\n",
       "      <td>15</td>\n",
       "      <td>0</td>\n",
       "    </tr>\n",
       "    <tr>\n",
       "      <th>2</th>\n",
       "      <td>71613.0</td>\n",
       "      <td>0</td>\n",
       "      <td>0</td>\n",
       "      <td>26</td>\n",
       "      <td>426</td>\n",
       "      <td>49</td>\n",
       "      <td>127</td>\n",
       "      <td>111</td>\n",
       "      <td>21</td>\n",
       "      <td>42</td>\n",
       "      <td>...</td>\n",
       "      <td>1</td>\n",
       "      <td>0</td>\n",
       "      <td>0</td>\n",
       "      <td>0</td>\n",
       "      <td>1</td>\n",
       "      <td>0</td>\n",
       "      <td>0</td>\n",
       "      <td>734</td>\n",
       "      <td>692</td>\n",
       "      <td>0</td>\n",
       "    </tr>\n",
       "    <tr>\n",
       "      <th>3</th>\n",
       "      <td>26646.0</td>\n",
       "      <td>1</td>\n",
       "      <td>0</td>\n",
       "      <td>26</td>\n",
       "      <td>11</td>\n",
       "      <td>4</td>\n",
       "      <td>20</td>\n",
       "      <td>10</td>\n",
       "      <td>3</td>\n",
       "      <td>5</td>\n",
       "      <td>...</td>\n",
       "      <td>1</td>\n",
       "      <td>0</td>\n",
       "      <td>0</td>\n",
       "      <td>0</td>\n",
       "      <td>1</td>\n",
       "      <td>0</td>\n",
       "      <td>0</td>\n",
       "      <td>48</td>\n",
       "      <td>43</td>\n",
       "      <td>0</td>\n",
       "    </tr>\n",
       "    <tr>\n",
       "      <th>4</th>\n",
       "      <td>58293.0</td>\n",
       "      <td>1</td>\n",
       "      <td>0</td>\n",
       "      <td>94</td>\n",
       "      <td>173</td>\n",
       "      <td>43</td>\n",
       "      <td>118</td>\n",
       "      <td>46</td>\n",
       "      <td>27</td>\n",
       "      <td>15</td>\n",
       "      <td>...</td>\n",
       "      <td>0</td>\n",
       "      <td>0</td>\n",
       "      <td>0</td>\n",
       "      <td>0</td>\n",
       "      <td>0</td>\n",
       "      <td>0</td>\n",
       "      <td>1</td>\n",
       "      <td>407</td>\n",
       "      <td>392</td>\n",
       "      <td>0</td>\n",
       "    </tr>\n",
       "  </tbody>\n",
       "</table>\n",
       "<p>5 rows × 39 columns</p>\n",
       "</div>"
      ],
      "text/plain": [
       "    Income  Kidhome  Teenhome  Recency  MntWines  MntFruits  MntMeatProducts  \\\n",
       "0  58138.0        0         0       58       635         88              546   \n",
       "1  46344.0        1         1       38        11          1                6   \n",
       "2  71613.0        0         0       26       426         49              127   \n",
       "3  26646.0        1         0       26        11          4               20   \n",
       "4  58293.0        1         0       94       173         43              118   \n",
       "\n",
       "   MntFishProducts  MntSweetProducts  MntGoldProds  ...  marital_Together  \\\n",
       "0              172                88            88  ...                 0   \n",
       "1                2                 1             6  ...                 0   \n",
       "2              111                21            42  ...                 1   \n",
       "3               10                 3             5  ...                 1   \n",
       "4               46                27            15  ...                 0   \n",
       "\n",
       "   marital_Widow  education_2n Cycle  education_Basic  education_Graduation  \\\n",
       "0              0                   0                0                     1   \n",
       "1              0                   0                0                     1   \n",
       "2              0                   0                0                     1   \n",
       "3              0                   0                0                     1   \n",
       "4              0                   0                0                     0   \n",
       "\n",
       "   education_Master  education_PhD  MntTotal  MntRegularProds  \\\n",
       "0                 0              0      1529             1441   \n",
       "1                 0              0        21               15   \n",
       "2                 0              0       734              692   \n",
       "3                 0              0        48               43   \n",
       "4                 0              1       407              392   \n",
       "\n",
       "   AcceptedCmpOverall  \n",
       "0                   0  \n",
       "1                   0  \n",
       "2                   0  \n",
       "3                   0  \n",
       "4                   0  \n",
       "\n",
       "[5 rows x 39 columns]"
      ]
     },
     "execution_count": 6,
     "metadata": {},
     "output_type": "execute_result"
    }
   ],
   "source": [
    "data = pd.read_csv('C:/Users/kolte/OneDrive/Documents/oasis/ifood_df.csv')\n",
    "\n",
    "data.head()"
   ]
  },
  {
   "cell_type": "code",
   "execution_count": 7,
   "id": "7ac479be",
   "metadata": {},
   "outputs": [
    {
     "data": {
      "text/plain": [
       "Index(['Income', 'Kidhome', 'Teenhome', 'Recency', 'MntWines', 'MntFruits',\n",
       "       'MntMeatProducts', 'MntFishProducts', 'MntSweetProducts',\n",
       "       'MntGoldProds', 'NumDealsPurchases', 'NumWebPurchases',\n",
       "       'NumCatalogPurchases', 'NumStorePurchases', 'NumWebVisitsMonth',\n",
       "       'AcceptedCmp3', 'AcceptedCmp4', 'AcceptedCmp5', 'AcceptedCmp1',\n",
       "       'AcceptedCmp2', 'Complain', 'Z_CostContact', 'Z_Revenue', 'Response',\n",
       "       'Age', 'Customer_Days', 'marital_Divorced', 'marital_Married',\n",
       "       'marital_Single', 'marital_Together', 'marital_Widow',\n",
       "       'education_2n Cycle', 'education_Basic', 'education_Graduation',\n",
       "       'education_Master', 'education_PhD', 'MntTotal', 'MntRegularProds',\n",
       "       'AcceptedCmpOverall'],\n",
       "      dtype='object')"
      ]
     },
     "execution_count": 7,
     "metadata": {},
     "output_type": "execute_result"
    }
   ],
   "source": [
    "data.columns"
   ]
  },
  {
   "cell_type": "code",
   "execution_count": 8,
   "id": "a579550d",
   "metadata": {},
   "outputs": [
    {
     "data": {
      "text/plain": [
       "Income                  0\n",
       "Kidhome                 0\n",
       "Teenhome                0\n",
       "Recency                 0\n",
       "MntWines                0\n",
       "MntFruits               0\n",
       "MntMeatProducts         0\n",
       "MntFishProducts         0\n",
       "MntSweetProducts        0\n",
       "MntGoldProds            0\n",
       "NumDealsPurchases       0\n",
       "NumWebPurchases         0\n",
       "NumCatalogPurchases     0\n",
       "NumStorePurchases       0\n",
       "NumWebVisitsMonth       0\n",
       "AcceptedCmp3            0\n",
       "AcceptedCmp4            0\n",
       "AcceptedCmp5            0\n",
       "AcceptedCmp1            0\n",
       "AcceptedCmp2            0\n",
       "Complain                0\n",
       "Z_CostContact           0\n",
       "Z_Revenue               0\n",
       "Response                0\n",
       "Age                     0\n",
       "Customer_Days           0\n",
       "marital_Divorced        0\n",
       "marital_Married         0\n",
       "marital_Single          0\n",
       "marital_Together        0\n",
       "marital_Widow           0\n",
       "education_2n Cycle      0\n",
       "education_Basic         0\n",
       "education_Graduation    0\n",
       "education_Master        0\n",
       "education_PhD           0\n",
       "MntTotal                0\n",
       "MntRegularProds         0\n",
       "AcceptedCmpOverall      0\n",
       "dtype: int64"
      ]
     },
     "execution_count": 8,
     "metadata": {},
     "output_type": "execute_result"
    }
   ],
   "source": [
    "data.isna().sum()"
   ]
  },
  {
   "cell_type": "code",
   "execution_count": 9,
   "id": "21afaffe",
   "metadata": {},
   "outputs": [
    {
     "name": "stdout",
     "output_type": "stream",
     "text": [
      "<class 'pandas.core.frame.DataFrame'>\n",
      "RangeIndex: 2205 entries, 0 to 2204\n",
      "Data columns (total 39 columns):\n",
      " #   Column                Non-Null Count  Dtype  \n",
      "---  ------                --------------  -----  \n",
      " 0   Income                2205 non-null   float64\n",
      " 1   Kidhome               2205 non-null   int64  \n",
      " 2   Teenhome              2205 non-null   int64  \n",
      " 3   Recency               2205 non-null   int64  \n",
      " 4   MntWines              2205 non-null   int64  \n",
      " 5   MntFruits             2205 non-null   int64  \n",
      " 6   MntMeatProducts       2205 non-null   int64  \n",
      " 7   MntFishProducts       2205 non-null   int64  \n",
      " 8   MntSweetProducts      2205 non-null   int64  \n",
      " 9   MntGoldProds          2205 non-null   int64  \n",
      " 10  NumDealsPurchases     2205 non-null   int64  \n",
      " 11  NumWebPurchases       2205 non-null   int64  \n",
      " 12  NumCatalogPurchases   2205 non-null   int64  \n",
      " 13  NumStorePurchases     2205 non-null   int64  \n",
      " 14  NumWebVisitsMonth     2205 non-null   int64  \n",
      " 15  AcceptedCmp3          2205 non-null   int64  \n",
      " 16  AcceptedCmp4          2205 non-null   int64  \n",
      " 17  AcceptedCmp5          2205 non-null   int64  \n",
      " 18  AcceptedCmp1          2205 non-null   int64  \n",
      " 19  AcceptedCmp2          2205 non-null   int64  \n",
      " 20  Complain              2205 non-null   int64  \n",
      " 21  Z_CostContact         2205 non-null   int64  \n",
      " 22  Z_Revenue             2205 non-null   int64  \n",
      " 23  Response              2205 non-null   int64  \n",
      " 24  Age                   2205 non-null   int64  \n",
      " 25  Customer_Days         2205 non-null   int64  \n",
      " 26  marital_Divorced      2205 non-null   int64  \n",
      " 27  marital_Married       2205 non-null   int64  \n",
      " 28  marital_Single        2205 non-null   int64  \n",
      " 29  marital_Together      2205 non-null   int64  \n",
      " 30  marital_Widow         2205 non-null   int64  \n",
      " 31  education_2n Cycle    2205 non-null   int64  \n",
      " 32  education_Basic       2205 non-null   int64  \n",
      " 33  education_Graduation  2205 non-null   int64  \n",
      " 34  education_Master      2205 non-null   int64  \n",
      " 35  education_PhD         2205 non-null   int64  \n",
      " 36  MntTotal              2205 non-null   int64  \n",
      " 37  MntRegularProds       2205 non-null   int64  \n",
      " 38  AcceptedCmpOverall    2205 non-null   int64  \n",
      "dtypes: float64(1), int64(38)\n",
      "memory usage: 672.0 KB\n"
     ]
    }
   ],
   "source": [
    "data.info()"
   ]
  },
  {
   "cell_type": "code",
   "execution_count": 10,
   "id": "6b806aa9",
   "metadata": {},
   "outputs": [
    {
     "data": {
      "text/plain": [
       "Income                  1963\n",
       "Kidhome                    3\n",
       "Teenhome                   3\n",
       "Recency                  100\n",
       "MntWines                 775\n",
       "MntFruits                158\n",
       "MntMeatProducts          551\n",
       "MntFishProducts          182\n",
       "MntSweetProducts         176\n",
       "MntGoldProds             212\n",
       "NumDealsPurchases         15\n",
       "NumWebPurchases           15\n",
       "NumCatalogPurchases       13\n",
       "NumStorePurchases         14\n",
       "NumWebVisitsMonth         16\n",
       "AcceptedCmp3               2\n",
       "AcceptedCmp4               2\n",
       "AcceptedCmp5               2\n",
       "AcceptedCmp1               2\n",
       "AcceptedCmp2               2\n",
       "Complain                   2\n",
       "Z_CostContact              1\n",
       "Z_Revenue                  1\n",
       "Response                   2\n",
       "Age                       56\n",
       "Customer_Days            662\n",
       "marital_Divorced           2\n",
       "marital_Married            2\n",
       "marital_Single             2\n",
       "marital_Together           2\n",
       "marital_Widow              2\n",
       "education_2n Cycle         2\n",
       "education_Basic            2\n",
       "education_Graduation       2\n",
       "education_Master           2\n",
       "education_PhD              2\n",
       "MntTotal                 897\n",
       "MntRegularProds          974\n",
       "AcceptedCmpOverall         5\n",
       "dtype: int64"
      ]
     },
     "execution_count": 10,
     "metadata": {},
     "output_type": "execute_result"
    }
   ],
   "source": [
    "data.nunique()"
   ]
  },
  {
   "cell_type": "code",
   "execution_count": 11,
   "id": "b3bc06c1",
   "metadata": {},
   "outputs": [],
   "source": [
    "data.drop(columns=['Z_CostContact','Z_Revenue'],inplace = True)"
   ]
  },
  {
   "cell_type": "markdown",
   "id": "870e12e7",
   "metadata": {},
   "source": [
    "# Data Exploration"
   ]
  },
  {
   "cell_type": "code",
   "execution_count": 13,
   "id": "ce822897",
   "metadata": {},
   "outputs": [
    {
     "data": {
      "image/png": "[encoded data removed]",
      "text/plain": [
       "<Figure size 432x288 with 1 Axes>"
      ]
     },
     "metadata": {
      "needs_background": "light"
     },
     "output_type": "display_data"
    }
   ],
   "source": [
    "plt.figure(figsize=(6,4))\n",
    "sns.boxplot(data = data, y='MntTotal')\n",
    "plt.title('Box Plot for MntTotal')\n",
    "plt.ylabel('MntTotal')\n",
    "plt.show()"
   ]
  },
  {
   "cell_type": "code",
   "execution_count": 14,
   "id": "ae1b43af",
   "metadata": {},
   "outputs": [
    {
     "data": {
      "text/html": [
       "<div>\n",
       "<style scoped>\n",
       "    .dataframe tbody tr th:only-of-type {\n",
       "        vertical-align: middle;\n",
       "    }\n",
       "\n",
       "    .dataframe tbody tr th {\n",
       "        vertical-align: top;\n",
       "    }\n",
       "\n",
       "    .dataframe thead th {\n",
       "        text-align: right;\n",
       "    }\n",
       "</style>\n",
       "<table border=\"1\" class=\"dataframe\">\n",
       "  <thead>\n",
       "    <tr style=\"text-align: right;\">\n",
       "      <th></th>\n",
       "      <th>Income</th>\n",
       "      <th>Kidhome</th>\n",
       "      <th>Teenhome</th>\n",
       "      <th>Recency</th>\n",
       "      <th>MntWines</th>\n",
       "      <th>MntFruits</th>\n",
       "      <th>MntMeatProducts</th>\n",
       "      <th>MntFishProducts</th>\n",
       "      <th>MntSweetProducts</th>\n",
       "      <th>MntGoldProds</th>\n",
       "      <th>...</th>\n",
       "      <th>marital_Together</th>\n",
       "      <th>marital_Widow</th>\n",
       "      <th>education_2n Cycle</th>\n",
       "      <th>education_Basic</th>\n",
       "      <th>education_Graduation</th>\n",
       "      <th>education_Master</th>\n",
       "      <th>education_PhD</th>\n",
       "      <th>MntTotal</th>\n",
       "      <th>MntRegularProds</th>\n",
       "      <th>AcceptedCmpOverall</th>\n",
       "    </tr>\n",
       "  </thead>\n",
       "  <tbody>\n",
       "    <tr>\n",
       "      <th>1159</th>\n",
       "      <td>90638.0</td>\n",
       "      <td>0</td>\n",
       "      <td>0</td>\n",
       "      <td>29</td>\n",
       "      <td>1156</td>\n",
       "      <td>120</td>\n",
       "      <td>915</td>\n",
       "      <td>94</td>\n",
       "      <td>144</td>\n",
       "      <td>96</td>\n",
       "      <td>...</td>\n",
       "      <td>0</td>\n",
       "      <td>0</td>\n",
       "      <td>0</td>\n",
       "      <td>0</td>\n",
       "      <td>0</td>\n",
       "      <td>1</td>\n",
       "      <td>0</td>\n",
       "      <td>2429</td>\n",
       "      <td>2333</td>\n",
       "      <td>1</td>\n",
       "    </tr>\n",
       "    <tr>\n",
       "      <th>1467</th>\n",
       "      <td>87679.0</td>\n",
       "      <td>0</td>\n",
       "      <td>0</td>\n",
       "      <td>62</td>\n",
       "      <td>1259</td>\n",
       "      <td>172</td>\n",
       "      <td>815</td>\n",
       "      <td>97</td>\n",
       "      <td>148</td>\n",
       "      <td>33</td>\n",
       "      <td>...</td>\n",
       "      <td>1</td>\n",
       "      <td>0</td>\n",
       "      <td>0</td>\n",
       "      <td>0</td>\n",
       "      <td>1</td>\n",
       "      <td>0</td>\n",
       "      <td>0</td>\n",
       "      <td>2491</td>\n",
       "      <td>2458</td>\n",
       "      <td>3</td>\n",
       "    </tr>\n",
       "    <tr>\n",
       "      <th>1547</th>\n",
       "      <td>90638.0</td>\n",
       "      <td>0</td>\n",
       "      <td>0</td>\n",
       "      <td>29</td>\n",
       "      <td>1156</td>\n",
       "      <td>120</td>\n",
       "      <td>915</td>\n",
       "      <td>94</td>\n",
       "      <td>144</td>\n",
       "      <td>96</td>\n",
       "      <td>...</td>\n",
       "      <td>0</td>\n",
       "      <td>0</td>\n",
       "      <td>0</td>\n",
       "      <td>0</td>\n",
       "      <td>0</td>\n",
       "      <td>1</td>\n",
       "      <td>0</td>\n",
       "      <td>2429</td>\n",
       "      <td>2333</td>\n",
       "      <td>1</td>\n",
       "    </tr>\n",
       "  </tbody>\n",
       "</table>\n",
       "<p>3 rows × 37 columns</p>\n",
       "</div>"
      ],
      "text/plain": [
       "       Income  Kidhome  Teenhome  Recency  MntWines  MntFruits  \\\n",
       "1159  90638.0        0         0       29      1156        120   \n",
       "1467  87679.0        0         0       62      1259        172   \n",
       "1547  90638.0        0         0       29      1156        120   \n",
       "\n",
       "      MntMeatProducts  MntFishProducts  MntSweetProducts  MntGoldProds  ...  \\\n",
       "1159              915               94               144            96  ...   \n",
       "1467              815               97               148            33  ...   \n",
       "1547              915               94               144            96  ...   \n",
       "\n",
       "      marital_Together  marital_Widow  education_2n Cycle  education_Basic  \\\n",
       "1159                 0              0                   0                0   \n",
       "1467                 1              0                   0                0   \n",
       "1547                 0              0                   0                0   \n",
       "\n",
       "      education_Graduation  education_Master  education_PhD  MntTotal  \\\n",
       "1159                     0                 1              0      2429   \n",
       "1467                     1                 0              0      2491   \n",
       "1547                     0                 1              0      2429   \n",
       "\n",
       "      MntRegularProds  AcceptedCmpOverall  \n",
       "1159             2333                   1  \n",
       "1467             2458                   3  \n",
       "1547             2333                   1  \n",
       "\n",
       "[3 rows x 37 columns]"
      ]
     },
     "execution_count": 14,
     "metadata": {},
     "output_type": "execute_result"
    }
   ],
   "source": [
    "#outliers\n",
    "Q1 = data['MntTotal'].quantile(0.25)\n",
    "Q3 = data['MntTotal'].quantile(0.75)\n",
    "IQR = Q3 - Q1\n",
    "lower_bound = Q1 - 1.5 * IQR\n",
    "upper_bound = Q3 + 1.5 * IQR\n",
    "outliers = data[(data['MntTotal'] < lower_bound) | (data['MntTotal'] > upper_bound)]\n",
    "outliers.head()"
   ]
  },
  {
   "cell_type": "code",
   "execution_count": 15,
   "id": "d77dfb36",
   "metadata": {},
   "outputs": [
    {
     "data": {
      "text/html": [
       "<div>\n",
       "<style scoped>\n",
       "    .dataframe tbody tr th:only-of-type {\n",
       "        vertical-align: middle;\n",
       "    }\n",
       "\n",
       "    .dataframe tbody tr th {\n",
       "        vertical-align: top;\n",
       "    }\n",
       "\n",
       "    .dataframe thead th {\n",
       "        text-align: right;\n",
       "    }\n",
       "</style>\n",
       "<table border=\"1\" class=\"dataframe\">\n",
       "  <thead>\n",
       "    <tr style=\"text-align: right;\">\n",
       "      <th></th>\n",
       "      <th>Income</th>\n",
       "      <th>Kidhome</th>\n",
       "      <th>Teenhome</th>\n",
       "      <th>Recency</th>\n",
       "      <th>MntWines</th>\n",
       "      <th>MntFruits</th>\n",
       "      <th>MntMeatProducts</th>\n",
       "      <th>MntFishProducts</th>\n",
       "      <th>MntSweetProducts</th>\n",
       "      <th>MntGoldProds</th>\n",
       "      <th>...</th>\n",
       "      <th>marital_Together</th>\n",
       "      <th>marital_Widow</th>\n",
       "      <th>education_2n Cycle</th>\n",
       "      <th>education_Basic</th>\n",
       "      <th>education_Graduation</th>\n",
       "      <th>education_Master</th>\n",
       "      <th>education_PhD</th>\n",
       "      <th>MntTotal</th>\n",
       "      <th>MntRegularProds</th>\n",
       "      <th>AcceptedCmpOverall</th>\n",
       "    </tr>\n",
       "  </thead>\n",
       "  <tbody>\n",
       "    <tr>\n",
       "      <th>count</th>\n",
       "      <td>2202.000000</td>\n",
       "      <td>2202.000000</td>\n",
       "      <td>2202.000000</td>\n",
       "      <td>2202.000000</td>\n",
       "      <td>2202.000000</td>\n",
       "      <td>2202.000000</td>\n",
       "      <td>2202.000000</td>\n",
       "      <td>2202.000000</td>\n",
       "      <td>2202.000000</td>\n",
       "      <td>2202.000000</td>\n",
       "      <td>...</td>\n",
       "      <td>2202.000000</td>\n",
       "      <td>2202.000000</td>\n",
       "      <td>2202.000000</td>\n",
       "      <td>2202.000000</td>\n",
       "      <td>2202.000000</td>\n",
       "      <td>2202.000000</td>\n",
       "      <td>2202.000000</td>\n",
       "      <td>2202.000000</td>\n",
       "      <td>2202.000000</td>\n",
       "      <td>2202.000000</td>\n",
       "    </tr>\n",
       "    <tr>\n",
       "      <th>mean</th>\n",
       "      <td>51570.283379</td>\n",
       "      <td>0.442779</td>\n",
       "      <td>0.507266</td>\n",
       "      <td>49.021344</td>\n",
       "      <td>304.960036</td>\n",
       "      <td>26.252044</td>\n",
       "      <td>164.336058</td>\n",
       "      <td>37.678474</td>\n",
       "      <td>26.967302</td>\n",
       "      <td>44.014986</td>\n",
       "      <td>...</td>\n",
       "      <td>0.257493</td>\n",
       "      <td>0.034514</td>\n",
       "      <td>0.089918</td>\n",
       "      <td>0.024523</td>\n",
       "      <td>0.504995</td>\n",
       "      <td>0.164396</td>\n",
       "      <td>0.216167</td>\n",
       "      <td>560.193915</td>\n",
       "      <td>516.178928</td>\n",
       "      <td>0.297457</td>\n",
       "    </tr>\n",
       "    <tr>\n",
       "      <th>std</th>\n",
       "      <td>20679.438848</td>\n",
       "      <td>0.537250</td>\n",
       "      <td>0.544429</td>\n",
       "      <td>28.944211</td>\n",
       "      <td>336.135586</td>\n",
       "      <td>39.589747</td>\n",
       "      <td>216.312982</td>\n",
       "      <td>54.821185</td>\n",
       "      <td>40.926101</td>\n",
       "      <td>51.747221</td>\n",
       "      <td>...</td>\n",
       "      <td>0.437353</td>\n",
       "      <td>0.182587</td>\n",
       "      <td>0.286130</td>\n",
       "      <td>0.154702</td>\n",
       "      <td>0.500089</td>\n",
       "      <td>0.370719</td>\n",
       "      <td>0.411723</td>\n",
       "      <td>572.096830</td>\n",
       "      <td>549.962471</td>\n",
       "      <td>0.678134</td>\n",
       "    </tr>\n",
       "    <tr>\n",
       "      <th>min</th>\n",
       "      <td>1730.000000</td>\n",
       "      <td>0.000000</td>\n",
       "      <td>0.000000</td>\n",
       "      <td>0.000000</td>\n",
       "      <td>0.000000</td>\n",
       "      <td>0.000000</td>\n",
       "      <td>0.000000</td>\n",
       "      <td>0.000000</td>\n",
       "      <td>0.000000</td>\n",
       "      <td>0.000000</td>\n",
       "      <td>...</td>\n",
       "      <td>0.000000</td>\n",
       "      <td>0.000000</td>\n",
       "      <td>0.000000</td>\n",
       "      <td>0.000000</td>\n",
       "      <td>0.000000</td>\n",
       "      <td>0.000000</td>\n",
       "      <td>0.000000</td>\n",
       "      <td>4.000000</td>\n",
       "      <td>-283.000000</td>\n",
       "      <td>0.000000</td>\n",
       "    </tr>\n",
       "    <tr>\n",
       "      <th>25%</th>\n",
       "      <td>35182.500000</td>\n",
       "      <td>0.000000</td>\n",
       "      <td>0.000000</td>\n",
       "      <td>24.000000</td>\n",
       "      <td>24.000000</td>\n",
       "      <td>2.000000</td>\n",
       "      <td>16.000000</td>\n",
       "      <td>3.000000</td>\n",
       "      <td>1.000000</td>\n",
       "      <td>9.000000</td>\n",
       "      <td>...</td>\n",
       "      <td>0.000000</td>\n",
       "      <td>0.000000</td>\n",
       "      <td>0.000000</td>\n",
       "      <td>0.000000</td>\n",
       "      <td>0.000000</td>\n",
       "      <td>0.000000</td>\n",
       "      <td>0.000000</td>\n",
       "      <td>56.000000</td>\n",
       "      <td>42.000000</td>\n",
       "      <td>0.000000</td>\n",
       "    </tr>\n",
       "    <tr>\n",
       "      <th>50%</th>\n",
       "      <td>51258.500000</td>\n",
       "      <td>0.000000</td>\n",
       "      <td>0.000000</td>\n",
       "      <td>49.000000</td>\n",
       "      <td>176.500000</td>\n",
       "      <td>8.000000</td>\n",
       "      <td>68.000000</td>\n",
       "      <td>12.000000</td>\n",
       "      <td>8.000000</td>\n",
       "      <td>25.000000</td>\n",
       "      <td>...</td>\n",
       "      <td>0.000000</td>\n",
       "      <td>0.000000</td>\n",
       "      <td>0.000000</td>\n",
       "      <td>0.000000</td>\n",
       "      <td>1.000000</td>\n",
       "      <td>0.000000</td>\n",
       "      <td>0.000000</td>\n",
       "      <td>342.500000</td>\n",
       "      <td>288.000000</td>\n",
       "      <td>0.000000</td>\n",
       "    </tr>\n",
       "    <tr>\n",
       "      <th>75%</th>\n",
       "      <td>68146.500000</td>\n",
       "      <td>1.000000</td>\n",
       "      <td>1.000000</td>\n",
       "      <td>74.000000</td>\n",
       "      <td>505.000000</td>\n",
       "      <td>33.000000</td>\n",
       "      <td>230.750000</td>\n",
       "      <td>50.000000</td>\n",
       "      <td>33.000000</td>\n",
       "      <td>56.000000</td>\n",
       "      <td>...</td>\n",
       "      <td>1.000000</td>\n",
       "      <td>0.000000</td>\n",
       "      <td>0.000000</td>\n",
       "      <td>0.000000</td>\n",
       "      <td>1.000000</td>\n",
       "      <td>0.000000</td>\n",
       "      <td>0.000000</td>\n",
       "      <td>962.000000</td>\n",
       "      <td>883.000000</td>\n",
       "      <td>0.000000</td>\n",
       "    </tr>\n",
       "    <tr>\n",
       "      <th>max</th>\n",
       "      <td>113734.000000</td>\n",
       "      <td>2.000000</td>\n",
       "      <td>2.000000</td>\n",
       "      <td>99.000000</td>\n",
       "      <td>1493.000000</td>\n",
       "      <td>199.000000</td>\n",
       "      <td>1725.000000</td>\n",
       "      <td>259.000000</td>\n",
       "      <td>262.000000</td>\n",
       "      <td>321.000000</td>\n",
       "      <td>...</td>\n",
       "      <td>1.000000</td>\n",
       "      <td>1.000000</td>\n",
       "      <td>1.000000</td>\n",
       "      <td>1.000000</td>\n",
       "      <td>1.000000</td>\n",
       "      <td>1.000000</td>\n",
       "      <td>1.000000</td>\n",
       "      <td>2304.000000</td>\n",
       "      <td>2259.000000</td>\n",
       "      <td>4.000000</td>\n",
       "    </tr>\n",
       "  </tbody>\n",
       "</table>\n",
       "<p>8 rows × 37 columns</p>\n",
       "</div>"
      ],
      "text/plain": [
       "              Income      Kidhome     Teenhome      Recency     MntWines  \\\n",
       "count    2202.000000  2202.000000  2202.000000  2202.000000  2202.000000   \n",
       "mean    51570.283379     0.442779     0.507266    49.021344   304.960036   \n",
       "std     20679.438848     0.537250     0.544429    28.944211   336.135586   \n",
       "min      1730.000000     0.000000     0.000000     0.000000     0.000000   \n",
       "25%     35182.500000     0.000000     0.000000    24.000000    24.000000   \n",
       "50%     51258.500000     0.000000     0.000000    49.000000   176.500000   \n",
       "75%     68146.500000     1.000000     1.000000    74.000000   505.000000   \n",
       "max    113734.000000     2.000000     2.000000    99.000000  1493.000000   \n",
       "\n",
       "         MntFruits  MntMeatProducts  MntFishProducts  MntSweetProducts  \\\n",
       "count  2202.000000      2202.000000      2202.000000       2202.000000   \n",
       "mean     26.252044       164.336058        37.678474         26.967302   \n",
       "std      39.589747       216.312982        54.821185         40.926101   \n",
       "min       0.000000         0.000000         0.000000          0.000000   \n",
       "25%       2.000000        16.000000         3.000000          1.000000   \n",
       "50%       8.000000        68.000000        12.000000          8.000000   \n",
       "75%      33.000000       230.750000        50.000000         33.000000   \n",
       "max     199.000000      1725.000000       259.000000        262.000000   \n",
       "\n",
       "       MntGoldProds  ...  marital_Together  marital_Widow  education_2n Cycle  \\\n",
       "count   2202.000000  ...       2202.000000    2202.000000         2202.000000   \n",
       "mean      44.014986  ...          0.257493       0.034514            0.089918   \n",
       "std       51.747221  ...          0.437353       0.182587            0.286130   \n",
       "min        0.000000  ...          0.000000       0.000000            0.000000   \n",
       "25%        9.000000  ...          0.000000       0.000000            0.000000   \n",
       "50%       25.000000  ...          0.000000       0.000000            0.000000   \n",
       "75%       56.000000  ...          1.000000       0.000000            0.000000   \n",
       "max      321.000000  ...          1.000000       1.000000            1.000000   \n",
       "\n",
       "       education_Basic  education_Graduation  education_Master  education_PhD  \\\n",
       "count      2202.000000           2202.000000       2202.000000    2202.000000   \n",
       "mean          0.024523              0.504995          0.164396       0.216167   \n",
       "std           0.154702              0.500089          0.370719       0.411723   \n",
       "min           0.000000              0.000000          0.000000       0.000000   \n",
       "25%           0.000000              0.000000          0.000000       0.000000   \n",
       "50%           0.000000              1.000000          0.000000       0.000000   \n",
       "75%           0.000000              1.000000          0.000000       0.000000   \n",
       "max           1.000000              1.000000          1.000000       1.000000   \n",
       "\n",
       "          MntTotal  MntRegularProds  AcceptedCmpOverall  \n",
       "count  2202.000000      2202.000000         2202.000000  \n",
       "mean    560.193915       516.178928            0.297457  \n",
       "std     572.096830       549.962471            0.678134  \n",
       "min       4.000000      -283.000000            0.000000  \n",
       "25%      56.000000        42.000000            0.000000  \n",
       "50%     342.500000       288.000000            0.000000  \n",
       "75%     962.000000       883.000000            0.000000  \n",
       "max    2304.000000      2259.000000            4.000000  \n",
       "\n",
       "[8 rows x 37 columns]"
      ]
     },
     "execution_count": 15,
     "metadata": {},
     "output_type": "execute_result"
    }
   ],
   "source": [
    "#outliers removal\n",
    "data = data[(data['MntTotal'] > lower_bound) & (data['MntTotal'] < upper_bound)]\n",
    "data.describe()"
   ]
  },
  {
   "cell_type": "markdown",
   "id": "2976e6c0",
   "metadata": {},
   "source": [
    "# Box plot and histogram for income"
   ]
  },
  {
   "cell_type": "code",
   "execution_count": 16,
   "id": "6fa9d3a8",
   "metadata": {},
   "outputs": [
    {
     "data": {
      "image/png": "[encoded data removed]",
      "text/plain": [
       "<Figure size 432x288 with 1 Axes>"
      ]
     },
     "metadata": {
      "needs_background": "light"
     },
     "output_type": "display_data"
    }
   ],
   "source": [
    "plt.figure(figsize=(6, 4))  \n",
    "sns.boxplot(data=data, y='Income', palette='viridis')\n",
    "plt.title('Box Plot for Income')\n",
    "plt.ylabel('Income')\n",
    "plt.show()"
   ]
  },
  {
   "cell_type": "code",
   "execution_count": 17,
   "id": "c1d3fac6",
   "metadata": {},
   "outputs": [
    {
     "data": {
      "image/png": "[encoded data removed]",
      "text/plain": [
       "<Figure size 576x432 with 1 Axes>"
      ]
     },
     "metadata": {
      "needs_background": "light"
     },
     "output_type": "display_data"
    }
   ],
   "source": [
    "plt.figure(figsize=(8, 6))  \n",
    "sns.histplot(data=data, x='Income', bins=30, kde=True)\n",
    "plt.title('Histogram for Income')\n",
    "plt.xlabel('Income')\n",
    "plt.ylabel('Frequency')\n",
    "plt.show()"
   ]
  },
  {
   "cell_type": "markdown",
   "id": "2a53f095",
   "metadata": {},
   "source": [
    "# Histogram for age"
   ]
  },
  {
   "cell_type": "code",
   "execution_count": 18,
   "id": "f4939e9f",
   "metadata": {},
   "outputs": [
    {
     "data": {
      "image/png": "[encoded data removed]",
      "text/plain": [
       "<Figure size 576x432 with 1 Axes>"
      ]
     },
     "metadata": {
      "needs_background": "light"
     },
     "output_type": "display_data"
    }
   ],
   "source": [
    "plt.figure(figsize=(8, 6))  \n",
    "sns.histplot(data=data, x='Age', bins=30, kde=True)\n",
    "plt.title('Histogram for Age')\n",
    "plt.xlabel('Age')\n",
    "plt.ylabel('Frequency')\n",
    "plt.show()"
   ]
  },
  {
   "cell_type": "code",
   "execution_count": 19,
   "id": "97174ab0",
   "metadata": {},
   "outputs": [
    {
     "name": "stdout",
     "output_type": "stream",
     "text": [
      "Skewness: 0.091227\n",
      "Kurtosis: -0.796125\n"
     ]
    }
   ],
   "source": [
    "print(\"Skewness: %f\" % data['Age'].skew())\n",
    "print(\"Kurtosis: %f\" % data['Age'].kurt())"
   ]
  },
  {
   "cell_type": "code",
   "execution_count": 20,
   "id": "d142ded5",
   "metadata": {},
   "outputs": [],
   "source": [
    "cols_demographics = ['Income','Age']\n",
    "cols_children = ['Kidhome', 'Teenhome']\n",
    "cols_marital = ['marital_Divorced', 'marital_Married','marital_Single', 'marital_Together', 'marital_Widow']\n",
    "cols_mnt = ['MntTotal', 'MntRegularProds','MntWines', 'MntFruits', 'MntMeatProducts', 'MntFishProducts', 'MntSweetProducts', 'MntGoldProds']\n",
    "cols_communication = ['Complain', 'Response', 'Customer_Days']\n",
    "cols_campaigns = ['AcceptedCmpOverall', 'AcceptedCmp1', 'AcceptedCmp2', 'AcceptedCmp3', 'AcceptedCmp4', 'AcceptedCmp5']\n",
    "cols_source_of_purchase = ['NumDealsPurchases', 'NumWebPurchases','NumCatalogPurchases', 'NumStorePurchases', 'NumWebVisitsMonth']\n",
    "cols_education = ['education_2n Cycle', 'education_Basic', 'education_Graduation', 'education_Master', 'education_PhD']"
   ]
  },
  {
   "cell_type": "code",
   "execution_count": 21,
   "id": "0f4346e4",
   "metadata": {},
   "outputs": [
    {
     "data": {
      "image/png": "[encoded data removed]",
      "text/plain": [
       "<Figure size 432x432 with 2 Axes>"
      ]
     },
     "metadata": {
      "needs_background": "light"
     },
     "output_type": "display_data"
    }
   ],
   "source": [
    "corr_matrix = data[['MntTotal']+cols_demographics+cols_children].corr()\n",
    "plt.figure(figsize=(6,6))\n",
    "sns.heatmap(corr_matrix, annot=True, cmap='coolwarm', linewidths=0.5)\n",
    "plt.title('Correlation Matrix Heatmap')\n",
    "plt.show()"
   ]
  },
  {
   "cell_type": "code",
   "execution_count": 22,
   "id": "a37ba68b",
   "metadata": {},
   "outputs": [
    {
     "name": "stdout",
     "output_type": "stream",
     "text": [
      "0.0053: Point-Biserial Correlation for marital_Divorced with p-value 0.8041\n",
      "-0.0188: Point-Biserial Correlation for marital_Married with p-value 0.3767\n",
      "0.0011: Point-Biserial Correlation for marital_Single with p-value 0.9571\n",
      "0.0008: Point-Biserial Correlation for marital_Together with p-value 0.9708\n",
      "0.0370: Point-Biserial Correlation for marital_Widow with p-value 0.0826\n"
     ]
    }
   ],
   "source": [
    "for col in cols_marital:\n",
    "    correlation, p_value = pointbiserialr(data[col], data['MntTotal'])\n",
    "    print(f'{correlation:.4f}: Point-Biserial Correlation for {col} with p-value {p_value:.4f}')   "
   ]
  },
  {
   "cell_type": "code",
   "execution_count": 23,
   "id": "0987f742",
   "metadata": {},
   "outputs": [
    {
     "name": "stdout",
     "output_type": "stream",
     "text": [
      "-0.0593: Point-Biserial Correlation for education_2n Cycle with p-value 0.0054\n",
      "-0.1389: Point-Biserial Correlation for education_Basic with p-value 0.0000\n",
      "0.0159: Point-Biserial Correlation for education_Graduation with p-value 0.4551\n",
      "0.0004: Point-Biserial Correlation for education_Master with p-value 0.9842\n",
      "0.0737: Point-Biserial Correlation for education_PhD with p-value 0.0005\n"
     ]
    }
   ],
   "source": [
    "for col in cols_education:\n",
    "    correlation, p_value = pointbiserialr(data[col], data['MntTotal'])\n",
    "    print(f'{correlation:.4f}: Point-Biserial Correlation for {col} with p-value {p_value:.4f}')   "
   ]
  },
  {
   "cell_type": "markdown",
   "id": "3d366024",
   "metadata": {},
   "source": [
    "# Feature Engineering"
   ]
  },
  {
   "cell_type": "code",
   "execution_count": 24,
   "id": "774b4bb2",
   "metadata": {},
   "outputs": [],
   "source": [
    "def get_marital_status(row):\n",
    "    if row['marital_Divorced'] == 1:\n",
    "        return 'Divorced'\n",
    "    elif row['marital_Married'] == 1:\n",
    "        return 'Married'\n",
    "    elif row['marital_Single'] == 1:\n",
    "        return 'Single'\n",
    "    elif row['marital_Together'] == 1:\n",
    "        return 'Together'\n",
    "    elif row['marital_Widow'] == 1:\n",
    "        return 'Widow'\n",
    "    else:\n",
    "        return 'Unknown'\n",
    "data['Marital'] = data.apply(get_marital_status, axis=1)"
   ]
  },
  {
   "cell_type": "code",
   "execution_count": 25,
   "id": "7f49583f",
   "metadata": {},
   "outputs": [
    {
     "data": {
      "text/plain": [
       "Text(0, 0.5, 'MntTotal')"
      ]
     },
     "execution_count": 25,
     "metadata": {},
     "output_type": "execute_result"
    },
    {
     "data": {
      "image/png": "[encoded data removed]",
      "text/plain": [
       "<Figure size 576x432 with 1 Axes>"
      ]
     },
     "metadata": {
      "needs_background": "light"
     },
     "output_type": "display_data"
    }
   ],
   "source": [
    "plt.figure(figsize=(8, 6))\n",
    "sns.barplot(x='Marital', y='MntTotal', data=data, palette='viridis')\n",
    "plt.title('MntTotal by marital status')\n",
    "plt.xlabel('Marital status')\n",
    "plt.ylabel('MntTotal')"
   ]
  },
  {
   "cell_type": "code",
   "execution_count": 26,
   "id": "7504651e",
   "metadata": {},
   "outputs": [
    {
     "data": {
      "text/html": [
       "<div>\n",
       "<style scoped>\n",
       "    .dataframe tbody tr th:only-of-type {\n",
       "        vertical-align: middle;\n",
       "    }\n",
       "\n",
       "    .dataframe tbody tr th {\n",
       "        vertical-align: top;\n",
       "    }\n",
       "\n",
       "    .dataframe thead th {\n",
       "        text-align: right;\n",
       "    }\n",
       "</style>\n",
       "<table border=\"1\" class=\"dataframe\">\n",
       "  <thead>\n",
       "    <tr style=\"text-align: right;\">\n",
       "      <th></th>\n",
       "      <th>Income</th>\n",
       "      <th>Kidhome</th>\n",
       "      <th>Teenhome</th>\n",
       "      <th>Recency</th>\n",
       "      <th>MntWines</th>\n",
       "      <th>MntFruits</th>\n",
       "      <th>MntMeatProducts</th>\n",
       "      <th>MntFishProducts</th>\n",
       "      <th>MntSweetProducts</th>\n",
       "      <th>MntGoldProds</th>\n",
       "      <th>...</th>\n",
       "      <th>education_2n Cycle</th>\n",
       "      <th>education_Basic</th>\n",
       "      <th>education_Graduation</th>\n",
       "      <th>education_Master</th>\n",
       "      <th>education_PhD</th>\n",
       "      <th>MntTotal</th>\n",
       "      <th>MntRegularProds</th>\n",
       "      <th>AcceptedCmpOverall</th>\n",
       "      <th>Marital</th>\n",
       "      <th>In_relationship</th>\n",
       "    </tr>\n",
       "  </thead>\n",
       "  <tbody>\n",
       "    <tr>\n",
       "      <th>0</th>\n",
       "      <td>58138.0</td>\n",
       "      <td>0</td>\n",
       "      <td>0</td>\n",
       "      <td>58</td>\n",
       "      <td>635</td>\n",
       "      <td>88</td>\n",
       "      <td>546</td>\n",
       "      <td>172</td>\n",
       "      <td>88</td>\n",
       "      <td>88</td>\n",
       "      <td>...</td>\n",
       "      <td>0</td>\n",
       "      <td>0</td>\n",
       "      <td>1</td>\n",
       "      <td>0</td>\n",
       "      <td>0</td>\n",
       "      <td>1529</td>\n",
       "      <td>1441</td>\n",
       "      <td>0</td>\n",
       "      <td>Single</td>\n",
       "      <td>0</td>\n",
       "    </tr>\n",
       "    <tr>\n",
       "      <th>1</th>\n",
       "      <td>46344.0</td>\n",
       "      <td>1</td>\n",
       "      <td>1</td>\n",
       "      <td>38</td>\n",
       "      <td>11</td>\n",
       "      <td>1</td>\n",
       "      <td>6</td>\n",
       "      <td>2</td>\n",
       "      <td>1</td>\n",
       "      <td>6</td>\n",
       "      <td>...</td>\n",
       "      <td>0</td>\n",
       "      <td>0</td>\n",
       "      <td>1</td>\n",
       "      <td>0</td>\n",
       "      <td>0</td>\n",
       "      <td>21</td>\n",
       "      <td>15</td>\n",
       "      <td>0</td>\n",
       "      <td>Single</td>\n",
       "      <td>0</td>\n",
       "    </tr>\n",
       "    <tr>\n",
       "      <th>2</th>\n",
       "      <td>71613.0</td>\n",
       "      <td>0</td>\n",
       "      <td>0</td>\n",
       "      <td>26</td>\n",
       "      <td>426</td>\n",
       "      <td>49</td>\n",
       "      <td>127</td>\n",
       "      <td>111</td>\n",
       "      <td>21</td>\n",
       "      <td>42</td>\n",
       "      <td>...</td>\n",
       "      <td>0</td>\n",
       "      <td>0</td>\n",
       "      <td>1</td>\n",
       "      <td>0</td>\n",
       "      <td>0</td>\n",
       "      <td>734</td>\n",
       "      <td>692</td>\n",
       "      <td>0</td>\n",
       "      <td>Together</td>\n",
       "      <td>1</td>\n",
       "    </tr>\n",
       "    <tr>\n",
       "      <th>3</th>\n",
       "      <td>26646.0</td>\n",
       "      <td>1</td>\n",
       "      <td>0</td>\n",
       "      <td>26</td>\n",
       "      <td>11</td>\n",
       "      <td>4</td>\n",
       "      <td>20</td>\n",
       "      <td>10</td>\n",
       "      <td>3</td>\n",
       "      <td>5</td>\n",
       "      <td>...</td>\n",
       "      <td>0</td>\n",
       "      <td>0</td>\n",
       "      <td>1</td>\n",
       "      <td>0</td>\n",
       "      <td>0</td>\n",
       "      <td>48</td>\n",
       "      <td>43</td>\n",
       "      <td>0</td>\n",
       "      <td>Together</td>\n",
       "      <td>1</td>\n",
       "    </tr>\n",
       "    <tr>\n",
       "      <th>4</th>\n",
       "      <td>58293.0</td>\n",
       "      <td>1</td>\n",
       "      <td>0</td>\n",
       "      <td>94</td>\n",
       "      <td>173</td>\n",
       "      <td>43</td>\n",
       "      <td>118</td>\n",
       "      <td>46</td>\n",
       "      <td>27</td>\n",
       "      <td>15</td>\n",
       "      <td>...</td>\n",
       "      <td>0</td>\n",
       "      <td>0</td>\n",
       "      <td>0</td>\n",
       "      <td>0</td>\n",
       "      <td>1</td>\n",
       "      <td>407</td>\n",
       "      <td>392</td>\n",
       "      <td>0</td>\n",
       "      <td>Married</td>\n",
       "      <td>1</td>\n",
       "    </tr>\n",
       "  </tbody>\n",
       "</table>\n",
       "<p>5 rows × 39 columns</p>\n",
       "</div>"
      ],
      "text/plain": [
       "    Income  Kidhome  Teenhome  Recency  MntWines  MntFruits  MntMeatProducts  \\\n",
       "0  58138.0        0         0       58       635         88              546   \n",
       "1  46344.0        1         1       38        11          1                6   \n",
       "2  71613.0        0         0       26       426         49              127   \n",
       "3  26646.0        1         0       26        11          4               20   \n",
       "4  58293.0        1         0       94       173         43              118   \n",
       "\n",
       "   MntFishProducts  MntSweetProducts  MntGoldProds  ...  education_2n Cycle  \\\n",
       "0              172                88            88  ...                   0   \n",
       "1                2                 1             6  ...                   0   \n",
       "2              111                21            42  ...                   0   \n",
       "3               10                 3             5  ...                   0   \n",
       "4               46                27            15  ...                   0   \n",
       "\n",
       "   education_Basic  education_Graduation  education_Master  education_PhD  \\\n",
       "0                0                     1                 0              0   \n",
       "1                0                     1                 0              0   \n",
       "2                0                     1                 0              0   \n",
       "3                0                     1                 0              0   \n",
       "4                0                     0                 0              1   \n",
       "\n",
       "   MntTotal  MntRegularProds  AcceptedCmpOverall   Marital  In_relationship  \n",
       "0      1529             1441                   0    Single                0  \n",
       "1        21               15                   0    Single                0  \n",
       "2       734              692                   0  Together                1  \n",
       "3        48               43                   0  Together                1  \n",
       "4       407              392                   0   Married                1  \n",
       "\n",
       "[5 rows x 39 columns]"
      ]
     },
     "execution_count": 26,
     "metadata": {},
     "output_type": "execute_result"
    }
   ],
   "source": [
    "def get_relationship(row):\n",
    "    if row['marital_Married'] ==1:\n",
    "        return 1\n",
    "    elif row['marital_Together'] == 1:\n",
    "        return 1\n",
    "    else:\n",
    "        return 0\n",
    "data['In_relationship'] = data.apply(get_relationship, axis=1)\n",
    "data.head()    "
   ]
  },
  {
   "cell_type": "markdown",
   "id": "fb1487db",
   "metadata": {},
   "source": [
    "# K-means clustering"
   ]
  },
  {
   "cell_type": "code",
   "execution_count": 27,
   "id": "2971d583",
   "metadata": {},
   "outputs": [],
   "source": [
    "from sklearn.cluster import KMeans"
   ]
  },
  {
   "cell_type": "code",
   "execution_count": 28,
   "id": "88bd8c53",
   "metadata": {},
   "outputs": [
    {
     "data": {
      "text/html": [
       "<div>\n",
       "<style scoped>\n",
       "    .dataframe tbody tr th:only-of-type {\n",
       "        vertical-align: middle;\n",
       "    }\n",
       "\n",
       "    .dataframe tbody tr th {\n",
       "        vertical-align: top;\n",
       "    }\n",
       "\n",
       "    .dataframe thead th {\n",
       "        text-align: right;\n",
       "    }\n",
       "</style>\n",
       "<table border=\"1\" class=\"dataframe\">\n",
       "  <thead>\n",
       "    <tr style=\"text-align: right;\">\n",
       "      <th></th>\n",
       "      <th>Income</th>\n",
       "      <th>MntTotal</th>\n",
       "      <th>In_relationship</th>\n",
       "    </tr>\n",
       "  </thead>\n",
       "  <tbody>\n",
       "    <tr>\n",
       "      <th>count</th>\n",
       "      <td>2.202000e+03</td>\n",
       "      <td>2.202000e+03</td>\n",
       "      <td>2.202000e+03</td>\n",
       "    </tr>\n",
       "    <tr>\n",
       "      <th>mean</th>\n",
       "      <td>2.287125e-17</td>\n",
       "      <td>-9.246817e-17</td>\n",
       "      <td>-6.705707e-17</td>\n",
       "    </tr>\n",
       "    <tr>\n",
       "      <th>std</th>\n",
       "      <td>1.000227e+00</td>\n",
       "      <td>1.000227e+00</td>\n",
       "      <td>1.000227e+00</td>\n",
       "    </tr>\n",
       "    <tr>\n",
       "      <th>min</th>\n",
       "      <td>-2.410685e+00</td>\n",
       "      <td>-9.724232e-01</td>\n",
       "      <td>-1.348874e+00</td>\n",
       "    </tr>\n",
       "    <tr>\n",
       "      <th>25%</th>\n",
       "      <td>-7.926475e-01</td>\n",
       "      <td>-8.815089e-01</td>\n",
       "      <td>-1.348874e+00</td>\n",
       "    </tr>\n",
       "    <tr>\n",
       "      <th>50%</th>\n",
       "      <td>-1.508040e-02</td>\n",
       "      <td>-3.806058e-01</td>\n",
       "      <td>7.413589e-01</td>\n",
       "    </tr>\n",
       "    <tr>\n",
       "      <th>75%</th>\n",
       "      <td>8.017617e-01</td>\n",
       "      <td>7.024988e-01</td>\n",
       "      <td>7.413589e-01</td>\n",
       "    </tr>\n",
       "    <tr>\n",
       "      <th>max</th>\n",
       "      <td>3.006747e+00</td>\n",
       "      <td>3.048788e+00</td>\n",
       "      <td>7.413589e-01</td>\n",
       "    </tr>\n",
       "  </tbody>\n",
       "</table>\n",
       "</div>"
      ],
      "text/plain": [
       "             Income      MntTotal  In_relationship\n",
       "count  2.202000e+03  2.202000e+03     2.202000e+03\n",
       "mean   2.287125e-17 -9.246817e-17    -6.705707e-17\n",
       "std    1.000227e+00  1.000227e+00     1.000227e+00\n",
       "min   -2.410685e+00 -9.724232e-01    -1.348874e+00\n",
       "25%   -7.926475e-01 -8.815089e-01    -1.348874e+00\n",
       "50%   -1.508040e-02 -3.806058e-01     7.413589e-01\n",
       "75%    8.017617e-01  7.024988e-01     7.413589e-01\n",
       "max    3.006747e+00  3.048788e+00     7.413589e-01"
      ]
     },
     "execution_count": 28,
     "metadata": {},
     "output_type": "execute_result"
    }
   ],
   "source": [
    "from sklearn.preprocessing import StandardScaler\n",
    "scaler = StandardScaler()\n",
    "cols_for_clustering = ['Income', 'MntTotal', 'In_relationship']\n",
    "data_scaled = data.copy()\n",
    "data_scaled[cols_for_clustering] = scaler.fit_transform(data[cols_for_clustering])\n",
    "data_scaled[cols_for_clustering].describe()"
   ]
  },
  {
   "cell_type": "code",
   "execution_count": 29,
   "id": "d35a1dba",
   "metadata": {},
   "outputs": [],
   "source": [
    "from sklearn import decomposition\n",
    "pca = decomposition.PCA(n_components = 2)\n",
    "pca_res = pca.fit_transform(data_scaled[cols_for_clustering])\n",
    "data_scaled['pc1'] = pca_res[:,0]\n",
    "data_scaled['pc2'] = pca_res[:,1]"
   ]
  },
  {
   "cell_type": "code",
   "execution_count": 31,
   "id": "30876e4d",
   "metadata": {},
   "outputs": [],
   "source": [
    "#elbow method\n",
    "X = data_scaled[cols_for_clustering]\n",
    "inertia_list = []\n",
    "for K in range(2,10):\n",
    "    inertia = KMeans(n_clusters=K, random_state=7).fit(X).inertia_\n",
    "    inertia_list.append(inertia)"
   ]
  },
  {
   "cell_type": "code",
   "execution_count": 32,
   "id": "ffe95a42",
   "metadata": {},
   "outputs": [
    {
     "data": {
      "image/png": "[encoded data removed]",
      "text/plain": [
       "<Figure size 504x360 with 1 Axes>"
      ]
     },
     "metadata": {
      "needs_background": "light"
     },
     "output_type": "display_data"
    }
   ],
   "source": [
    "plt.figure(figsize=[7,5])\n",
    "plt.plot(range(2,10), inertia_list, color=(54 / 255, 113 / 255, 130 / 255))\n",
    "plt.title(\"Inertia vs. Number of Clusters\")\n",
    "plt.xlabel(\"Number of Clusters (K)\")\n",
    "plt.ylabel(\"Inertia\")\n",
    "plt.show()"
   ]
  },
  {
   "cell_type": "markdown",
   "id": "c6ccd66c",
   "metadata": {},
   "source": [
    "# Silhouette score analysis"
   ]
  },
  {
   "cell_type": "code",
   "execution_count": 33,
   "id": "e20d1342",
   "metadata": {},
   "outputs": [
    {
     "data": {
      "image/png": "[encoded data removed]",
      "text/plain": [
       "<Figure size 504x360 with 1 Axes>"
      ]
     },
     "metadata": {
      "needs_background": "light"
     },
     "output_type": "display_data"
    }
   ],
   "source": [
    "from sklearn.metrics import silhouette_score\n",
    "silhouette_list = []\n",
    "for K in range(2,10):\n",
    "    model = KMeans(n_clusters = K, random_state=7)\n",
    "    clusters = model.fit_predict(X)\n",
    "    s_avg = silhouette_score(X, clusters)\n",
    "    silhouette_list.append(s_avg)\n",
    "\n",
    "plt.figure(figsize=[7,5])\n",
    "plt.plot(range(2,10), silhouette_list, color=(54 / 255, 113 / 255, 130 / 255))\n",
    "plt.title(\"Silhouette Score vs. Number of Clusters\")\n",
    "plt.xlabel(\"Number of Clusters (K)\")\n",
    "plt.ylabel(\"Silhouette Score\")\n",
    "plt.show()"
   ]
  },
  {
   "cell_type": "code",
   "execution_count": 34,
   "id": "61ee4ea9",
   "metadata": {},
   "outputs": [],
   "source": [
    "model = KMeans(n_clusters=4, random_state = 7)\n",
    "model.fit(data_scaled[cols_for_clustering])\n",
    "data_scaled['Cluster'] = model.predict(data_scaled[cols_for_clustering])"
   ]
  },
  {
   "cell_type": "markdown",
   "id": "058ed90e",
   "metadata": {},
   "source": [
    "# Exploration of Clusters"
   ]
  },
  {
   "cell_type": "code",
   "execution_count": 35,
   "id": "d1bbd199",
   "metadata": {},
   "outputs": [
    {
     "data": {
      "text/plain": [
       "<matplotlib.legend.Legend at 0x2c38244a070>"
      ]
     },
     "execution_count": 35,
     "metadata": {},
     "output_type": "execute_result"
    },
    {
     "data": {
      "image/png": "[encoded data removed]",
      "text/plain": [
       "<Figure size 576x432 with 1 Axes>"
      ]
     },
     "metadata": {
      "needs_background": "light"
     },
     "output_type": "display_data"
    }
   ],
   "source": [
    "plt.figure(figsize=(8, 6))\n",
    "sns.scatterplot(x='pc1', y='pc2', data=data_scaled, hue='Cluster', palette='viridis')\n",
    "plt.title('Clustered Data Visualization')\n",
    "plt.xlabel('Principal Component 1 (pc1)')\n",
    "plt.ylabel('Principal Component 2 (pc2)')\n",
    "plt.legend(title='Clusters')"
   ]
  },
  {
   "cell_type": "code",
   "execution_count": 36,
   "id": "d4a2b9ef",
   "metadata": {},
   "outputs": [
    {
     "data": {
      "text/html": [
       "<div>\n",
       "<style scoped>\n",
       "    .dataframe tbody tr th:only-of-type {\n",
       "        vertical-align: middle;\n",
       "    }\n",
       "\n",
       "    .dataframe tbody tr th {\n",
       "        vertical-align: top;\n",
       "    }\n",
       "\n",
       "    .dataframe thead th {\n",
       "        text-align: right;\n",
       "    }\n",
       "</style>\n",
       "<table border=\"1\" class=\"dataframe\">\n",
       "  <thead>\n",
       "    <tr style=\"text-align: right;\">\n",
       "      <th></th>\n",
       "      <th>Income</th>\n",
       "      <th>MntTotal</th>\n",
       "      <th>In_relationship</th>\n",
       "    </tr>\n",
       "    <tr>\n",
       "      <th>Cluster</th>\n",
       "      <th></th>\n",
       "      <th></th>\n",
       "      <th></th>\n",
       "    </tr>\n",
       "  </thead>\n",
       "  <tbody>\n",
       "    <tr>\n",
       "      <th>0</th>\n",
       "      <td>71818.929329</td>\n",
       "      <td>1147.372792</td>\n",
       "      <td>1.0</td>\n",
       "    </tr>\n",
       "    <tr>\n",
       "      <th>1</th>\n",
       "      <td>37332.339956</td>\n",
       "      <td>150.761589</td>\n",
       "      <td>0.0</td>\n",
       "    </tr>\n",
       "    <tr>\n",
       "      <th>2</th>\n",
       "      <td>71946.155488</td>\n",
       "      <td>1159.612805</td>\n",
       "      <td>0.0</td>\n",
       "    </tr>\n",
       "    <tr>\n",
       "      <th>3</th>\n",
       "      <td>37892.819883</td>\n",
       "      <td>158.463158</td>\n",
       "      <td>1.0</td>\n",
       "    </tr>\n",
       "  </tbody>\n",
       "</table>\n",
       "</div>"
      ],
      "text/plain": [
       "               Income     MntTotal  In_relationship\n",
       "Cluster                                            \n",
       "0        71818.929329  1147.372792              1.0\n",
       "1        37332.339956   150.761589              0.0\n",
       "2        71946.155488  1159.612805              0.0\n",
       "3        37892.819883   158.463158              1.0"
      ]
     },
     "execution_count": 36,
     "metadata": {},
     "output_type": "execute_result"
    }
   ],
   "source": [
    "data['Cluster'] = data_scaled.Cluster\n",
    "data.groupby('Cluster')[cols_for_clustering].mean()"
   ]
  },
  {
   "cell_type": "code",
   "execution_count": 37,
   "id": "d3cb9769",
   "metadata": {},
   "outputs": [
    {
     "data": {
      "text/html": [
       "<div>\n",
       "<style scoped>\n",
       "    .dataframe tbody tr th:only-of-type {\n",
       "        vertical-align: middle;\n",
       "    }\n",
       "\n",
       "    .dataframe tbody tr th {\n",
       "        vertical-align: top;\n",
       "    }\n",
       "\n",
       "    .dataframe thead th {\n",
       "        text-align: right;\n",
       "    }\n",
       "</style>\n",
       "<table border=\"1\" class=\"dataframe\">\n",
       "  <thead>\n",
       "    <tr style=\"text-align: right;\">\n",
       "      <th></th>\n",
       "      <th>Cluster</th>\n",
       "      <th>MntTotal</th>\n",
       "      <th>MntRegularProds</th>\n",
       "      <th>MntWines</th>\n",
       "      <th>MntFruits</th>\n",
       "      <th>MntMeatProducts</th>\n",
       "      <th>MntFishProducts</th>\n",
       "      <th>MntSweetProducts</th>\n",
       "      <th>MntGoldProds</th>\n",
       "    </tr>\n",
       "  </thead>\n",
       "  <tbody>\n",
       "    <tr>\n",
       "      <th>0</th>\n",
       "      <td>0</td>\n",
       "      <td>1147.372792</td>\n",
       "      <td>1076.279152</td>\n",
       "      <td>623.261484</td>\n",
       "      <td>52.489399</td>\n",
       "      <td>341.326855</td>\n",
       "      <td>75.577739</td>\n",
       "      <td>54.717314</td>\n",
       "      <td>71.093640</td>\n",
       "    </tr>\n",
       "    <tr>\n",
       "      <th>1</th>\n",
       "      <td>1</td>\n",
       "      <td>150.761589</td>\n",
       "      <td>125.662252</td>\n",
       "      <td>85.450331</td>\n",
       "      <td>7.832230</td>\n",
       "      <td>38.774834</td>\n",
       "      <td>10.971302</td>\n",
       "      <td>7.732892</td>\n",
       "      <td>25.099338</td>\n",
       "    </tr>\n",
       "    <tr>\n",
       "      <th>2</th>\n",
       "      <td>2</td>\n",
       "      <td>1159.612805</td>\n",
       "      <td>1085.332317</td>\n",
       "      <td>613.862805</td>\n",
       "      <td>54.929878</td>\n",
       "      <td>357.902439</td>\n",
       "      <td>77.603659</td>\n",
       "      <td>55.314024</td>\n",
       "      <td>74.280488</td>\n",
       "    </tr>\n",
       "    <tr>\n",
       "      <th>3</th>\n",
       "      <td>3</td>\n",
       "      <td>158.463158</td>\n",
       "      <td>133.962573</td>\n",
       "      <td>92.046784</td>\n",
       "      <td>7.640936</td>\n",
       "      <td>39.438596</td>\n",
       "      <td>11.423392</td>\n",
       "      <td>7.913450</td>\n",
       "      <td>24.500585</td>\n",
       "    </tr>\n",
       "  </tbody>\n",
       "</table>\n",
       "</div>"
      ],
      "text/plain": [
       "   Cluster     MntTotal  MntRegularProds    MntWines  MntFruits  \\\n",
       "0        0  1147.372792      1076.279152  623.261484  52.489399   \n",
       "1        1   150.761589       125.662252   85.450331   7.832230   \n",
       "2        2  1159.612805      1085.332317  613.862805  54.929878   \n",
       "3        3   158.463158       133.962573   92.046784   7.640936   \n",
       "\n",
       "   MntMeatProducts  MntFishProducts  MntSweetProducts  MntGoldProds  \n",
       "0       341.326855        75.577739         54.717314     71.093640  \n",
       "1        38.774834        10.971302          7.732892     25.099338  \n",
       "2       357.902439        77.603659         55.314024     74.280488  \n",
       "3        39.438596        11.423392          7.913450     24.500585  "
      ]
     },
     "execution_count": 37,
     "metadata": {},
     "output_type": "execute_result"
    }
   ],
   "source": [
    "mnt_data = data.groupby('Cluster')[cols_mnt].mean().reset_index()\n",
    "mnt_data.head()"
   ]
  },
  {
   "cell_type": "code",
   "execution_count": 38,
   "id": "7d6705e6",
   "metadata": {},
   "outputs": [
    {
     "data": {
      "image/png": "[encoded data removed]",
      "text/plain": [
       "<Figure size 864x432 with 1 Axes>"
      ]
     },
     "metadata": {
      "needs_background": "light"
     },
     "output_type": "display_data"
    }
   ],
   "source": [
    "melted_data = pd.melt(mnt_data, id_vars=\"Cluster\", var_name=\"Product\", value_name=\"Consumption\")\n",
    "plt.figure(figsize=(12, 6))\n",
    "sns.barplot(x=\"Cluster\", y=\"Consumption\", hue=\"Product\", data=melted_data, ci=None, palette=\"viridis\")\n",
    "plt.title(\"Product Consumption by Cluster\")\n",
    "plt.xlabel(\"Cluster\")\n",
    "plt.ylabel(\"Product Consumption\")\n",
    "plt.xticks(rotation=0)  \n",
    "plt.legend(title=\"Product\", loc=\"upper right\")\n",
    "\n",
    "plt.show()"
   ]
  },
  {
   "cell_type": "code",
   "execution_count": 39,
   "id": "6191ae94",
   "metadata": {},
   "outputs": [
    {
     "data": {
      "text/plain": [
       "Text(0, 0.5, 'MntTotal')"
      ]
     },
     "execution_count": 39,
     "metadata": {},
     "output_type": "execute_result"
    },
    {
     "data": {
      "image/png": "[encoded data removed]",
      "text/plain": [
       "<Figure size 576x432 with 1 Axes>"
      ]
     },
     "metadata": {
      "needs_background": "light"
     },
     "output_type": "display_data"
    }
   ],
   "source": [
    "cluster_sizes = data.groupby('Cluster')[['MntTotal']].count().reset_index()\n",
    "plt.figure(figsize=(8,6))\n",
    "sns.barplot(x='Cluster', y='MntTotal', data=cluster_sizes, palette = 'viridis')\n",
    "plt.title('Cluster sizes')\n",
    "plt.xlabel('Cluster')\n",
    "plt.ylabel('MntTotal')"
   ]
  },
  {
   "cell_type": "code",
   "execution_count": 40,
   "id": "9bd53382",
   "metadata": {},
   "outputs": [
    {
     "data": {
      "text/html": [
       "<div>\n",
       "<style scoped>\n",
       "    .dataframe tbody tr th:only-of-type {\n",
       "        vertical-align: middle;\n",
       "    }\n",
       "\n",
       "    .dataframe tbody tr th {\n",
       "        vertical-align: top;\n",
       "    }\n",
       "\n",
       "    .dataframe thead th {\n",
       "        text-align: right;\n",
       "    }\n",
       "</style>\n",
       "<table border=\"1\" class=\"dataframe\">\n",
       "  <thead>\n",
       "    <tr style=\"text-align: right;\">\n",
       "      <th></th>\n",
       "      <th>Cluster</th>\n",
       "      <th>MntTotal</th>\n",
       "      <th>Share%</th>\n",
       "    </tr>\n",
       "  </thead>\n",
       "  <tbody>\n",
       "    <tr>\n",
       "      <th>0</th>\n",
       "      <td>0</td>\n",
       "      <td>566</td>\n",
       "      <td>26.0</td>\n",
       "    </tr>\n",
       "    <tr>\n",
       "      <th>1</th>\n",
       "      <td>1</td>\n",
       "      <td>453</td>\n",
       "      <td>21.0</td>\n",
       "    </tr>\n",
       "    <tr>\n",
       "      <th>2</th>\n",
       "      <td>2</td>\n",
       "      <td>328</td>\n",
       "      <td>15.0</td>\n",
       "    </tr>\n",
       "    <tr>\n",
       "      <th>3</th>\n",
       "      <td>3</td>\n",
       "      <td>855</td>\n",
       "      <td>39.0</td>\n",
       "    </tr>\n",
       "  </tbody>\n",
       "</table>\n",
       "</div>"
      ],
      "text/plain": [
       "   Cluster  MntTotal  Share%\n",
       "0        0       566    26.0\n",
       "1        1       453    21.0\n",
       "2        2       328    15.0\n",
       "3        3       855    39.0"
      ]
     },
     "execution_count": 40,
     "metadata": {},
     "output_type": "execute_result"
    }
   ],
   "source": [
    "total_rows = len(data)\n",
    "cluster_sizes['Share%'] = round(cluster_sizes['MntTotal'] / total_rows*100,0)\n",
    "cluster_sizes.head()"
   ]
  },
  {
   "cell_type": "code",
   "execution_count": 41,
   "id": "9ef97bc7",
   "metadata": {
    "scrolled": false
   },
   "outputs": [
    {
     "name": "stderr",
     "output_type": "stream",
     "text": [
      "No artists with labels found to put in legend.  Note that artists whose label start with an underscore are ignored when legend() is called with no argument.\n"
     ]
    },
    {
     "data": {
      "text/plain": [
       "<matplotlib.legend.Legend at 0x2c383558d60>"
      ]
     },
     "execution_count": 41,
     "metadata": {},
     "output_type": "execute_result"
    },
    {
     "data": {
      "image/png": "[encoded data removed]",
      "text/plain": [
       "<Figure size 576x432 with 1 Axes>"
      ]
     },
     "metadata": {
      "needs_background": "light"
     },
     "output_type": "display_data"
    }
   ],
   "source": [
    "plt.figure(figsize=(8, 6))\n",
    "sns.boxplot(x='Cluster', y='Income', data=data, palette='viridis')\n",
    "plt.title('Income by cluster')\n",
    "plt.xlabel('Cluster')\n",
    "plt.ylabel('Income')\n",
    "plt.legend(title='Clusters')"
   ]
  },
  {
   "cell_type": "code",
   "execution_count": 42,
   "id": "824e8f2d",
   "metadata": {},
   "outputs": [],
   "source": [
    "#scatter plot"
   ]
  },
  {
   "cell_type": "code",
   "execution_count": 43,
   "id": "de39d2f0",
   "metadata": {},
   "outputs": [
    {
     "data": {
      "text/plain": [
       "<matplotlib.legend.Legend at 0x2c383760520>"
      ]
     },
     "execution_count": 43,
     "metadata": {},
     "output_type": "execute_result"
    },
    {
     "data": {
      "image/png": "[encoded data removed]",
      "text/plain": [
       "<Figure size 576x432 with 1 Axes>"
      ]
     },
     "metadata": {
      "needs_background": "light"
     },
     "output_type": "display_data"
    }
   ],
   "source": [
    "plt.figure(figsize=(8, 6))\n",
    "sns.scatterplot(x='Income', y='MntTotal', data=data, hue = 'Cluster', palette='viridis')\n",
    "plt.title('Income by cluster')\n",
    "plt.xlabel('Income')\n",
    "plt.ylabel('MntTotal')\n",
    "plt.legend(title='Clusters')"
   ]
  },
  {
   "cell_type": "code",
   "execution_count": 44,
   "id": "cdb30794",
   "metadata": {},
   "outputs": [
    {
     "data": {
      "text/plain": [
       "Text(0, 0.5, 'In_relationship')"
      ]
     },
     "execution_count": 44,
     "metadata": {},
     "output_type": "execute_result"
    },
    {
     "data": {
      "image/png": "[encoded data removed]",
      "text/plain": [
       "<Figure size 576x432 with 1 Axes>"
      ]
     },
     "metadata": {
      "needs_background": "light"
     },
     "output_type": "display_data"
    }
   ],
   "source": [
    "plt.figure(figsize=(8, 6))\n",
    "sns.barplot(x='Cluster', y='In_relationship', data=data, palette='viridis')\n",
    "plt.title('In_relationship by cluster')\n",
    "plt.xlabel('Cluster')\n",
    "plt.ylabel('In_relationship')"
   ]
  }
 ],
 "metadata": {
  "kernelspec": {
   "display_name": "Python 3 (ipykernel)",
   "language": "python",
   "name": "python3"
  },
  "language_info": {
   "codemirror_mode": {
    "name": "ipython",
    "version": 3
   },
   "file_extension": ".py",
   "mimetype": "text/x-python",
   "name": "python",
   "nbconvert_exporter": "python",
   "pygments_lexer": "ipython3",
   "version": "3.9.12"
  }
 },
 "nbformat": 4,
 "nbformat_minor": 5
}
